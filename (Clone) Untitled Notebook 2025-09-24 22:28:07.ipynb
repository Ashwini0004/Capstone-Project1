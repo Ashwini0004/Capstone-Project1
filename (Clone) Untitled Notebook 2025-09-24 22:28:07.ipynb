{
 "cells": [
  {
   "cell_type": "code",
   "execution_count": 0,
   "metadata": {
    "application/vnd.databricks.v1+cell": {
     "cellMetadata": {},
     "inputWidgets": {},
     "nuid": "52a91247-d7f7-44fe-96c3-8e927c9af671",
     "showTitle": true,
     "tableResultSettingsMap": {},
     "title": "code"
    }
   },
   "outputs": [],
   "source": [
    "%sql\n",
    "CREATE OR REPLACE STREAMING TABLE customers AS \n",
    "SELECT  \n",
    " *, \n",
    " CURRENT_TIMESTAMP AS effective_start, \n",
    " NULL AS effective_end, \n",
    " 'Y' AS is_current \n",
    "FROM STREAM READ_FILES( \n",
    " \"/Volumes/capstone_project/bronze/raw/customers\",  \n",
    " FORMAT => \"csv\" \n",
    "); \n",
    "\n",
    "Silver pl :-\n",
    "create or replace streaming table capstone_project.silver.customers_cleaned_pl\n",
    "as\n",
    "select distinct * from stream customers where customer_id is not null;\n",
    "\n",
    "CREATE MATERIALIZED VIEW masked_silver AS\n",
    "SELECT  \n",
    "*, \n",
    "concat('xxxx', '@', split(email, '@')[1]) AS masked_email \n",
    "FROM  \n",
    "capstone_project.silver.customers_cleaned_pl; \n",
    "\n",
    "CREATE OR REFRESH STREAMING TABLE capstone_project.silver.customers_cleaned_pl; \n",
    "\n",
    "CREATE FLOW customers_flow \n",
    "AS AUTO CDC INTO \n",
    " capstone_project.silver.customers_cleaned_pl \n",
    "FROM stream(masked_silver) \n",
    " KEYS (customer_id) \n",
    " APPLY AS DELETE WHEN operation = \"DELETE\" \n",
    " SEQUENCE BY customer_id \n",
    " COLUMNS * EXCEPT (operation, sequenceNum,_rescued_data,ingestion_date) \n",
    " STORED AS SCD TYPE 2; \n",
    "\n",
    "MERGE INTO capstone_project.silver.customers_cleaned_pl AS target \n",
    "USING stream(masked_silver) AS source \n",
    "ON target.customer_id = source.customer_id \n",
    "WHEN MATCHED AND source.operation = \"UPDATE\" THEN \n",
    " UPDATE SET  \n",
    "   target.effective_end = CURRENT_TIMESTAMP, \n",
    "   target.is_current = 'N' \n",
    "WHEN NOT MATCHED THEN \n",
    " INSERT ( \n",
    "   customer_id, \n",
    "   name, \n",
    "   email, \n",
    "   phone, \n",
    "   address, \n",
    "   effective_start, \n",
    "   effective_end, \n",
    "   is_current \n",
    " ) VALUES ( \n",
    "   source.customer_id, \n",
    "   source.name, \n",
    "   source.email, \n",
    "   source.phone, \n",
    "   source.address, \n",
    "   CURRENT_TIMESTAMP, \n",
    "   NULL, \n",
    "   'Y' \n",
    " ); \n"
   ]
  },
  {
   "cell_type": "code",
   "execution_count": 0,
   "metadata": {
    "application/vnd.databricks.v1+cell": {
     "cellMetadata": {
      "byteLimit": 2048000,
      "implicitDf": true,
      "rowLimit": 10000
     },
     "inputWidgets": {},
     "nuid": "64e75e9a-f986-44b0-bdd6-b54f72b9fb6f",
     "showTitle": false,
     "tableResultSettingsMap": {},
     "title": ""
    }
   },
   "outputs": [],
   "source": [
    "%sql\n",
    "select * from capstone_project.silver.customers_clean_pl ;\n",
    "\n"
   ]
  },
  {
   "cell_type": "code",
   "execution_count": 0,
   "metadata": {
    "application/vnd.databricks.v1+cell": {
     "cellMetadata": {
      "byteLimit": 2048000,
      "implicitDf": true,
      "rowLimit": 10000
     },
     "inputWidgets": {},
     "nuid": "bcc2a1b1-ca84-4017-b835-5f034871bc0a",
     "showTitle": false,
     "tableResultSettingsMap": {},
     "title": ""
    }
   },
   "outputs": [],
   "source": [
    "%sql\n",
    "select * from capstone_project.silver.masked_customers_email1 limit(10);"
   ]
  },
  {
   "cell_type": "code",
   "execution_count": 0,
   "metadata": {
    "application/vnd.databricks.v1+cell": {
     "cellMetadata": {
      "byteLimit": 2048000,
      "implicitDf": true,
      "rowLimit": 10000
     },
     "inputWidgets": {},
     "nuid": "044bda4f-7382-4f3e-8bfe-999c29b64733",
     "showTitle": false,
     "tableResultSettingsMap": {},
     "title": ""
    }
   },
   "outputs": [],
   "source": [
    "%sql\n",
    "describe capstone_project.bronze.customers1"
   ]
  },
  {
   "cell_type": "code",
   "execution_count": 0,
   "metadata": {
    "application/vnd.databricks.v1+cell": {
     "cellMetadata": {
      "byteLimit": 2048000,
      "implicitDf": true,
      "rowLimit": 10000
     },
     "inputWidgets": {},
     "nuid": "d8148fc7-75e9-4865-bc85-b219139ce0df",
     "showTitle": false,
     "tableResultSettingsMap": {},
     "title": ""
    }
   },
   "outputs": [],
   "source": [
    "%sql\n",
    "select * from capstone_project.bronze.customers \n",
    "    \n"
   ]
  },
  {
   "cell_type": "code",
   "execution_count": 0,
   "metadata": {
    "application/vnd.databricks.v1+cell": {
     "cellMetadata": {
      "byteLimit": 2048000,
      "implicitDf": true,
      "rowLimit": 10000
     },
     "inputWidgets": {},
     "nuid": "f53646aa-5ee3-4e85-8ceb-2c46da10dadc",
     "showTitle": false,
     "tableResultSettingsMap": {},
     "title": ""
    }
   },
   "outputs": [],
   "source": [
    "%sql\n",
    "select * from capstone_project.silver.customers_scd2_pl1 limit(10);"
   ]
  },
  {
   "cell_type": "code",
   "execution_count": 0,
   "metadata": {
    "application/vnd.databricks.v1+cell": {
     "cellMetadata": {
      "byteLimit": 2048000,
      "implicitDf": true,
      "rowLimit": 10000
     },
     "inputWidgets": {},
     "nuid": "c5358b4b-4102-41d0-84ce-776f33eeaa9a",
     "showTitle": false,
     "tableResultSettingsMap": {},
     "title": ""
    }
   },
   "outputs": [],
   "source": [
    "%sql\n",
    "describe capstone_project.silver.customers_SCD2_pl1"
   ]
  },
  {
   "cell_type": "code",
   "execution_count": 0,
   "metadata": {
    "application/vnd.databricks.v1+cell": {
     "cellMetadata": {
      "byteLimit": 2048000,
      "implicitDf": true,
      "rowLimit": 10000
     },
     "inputWidgets": {},
     "nuid": "64dae450-53ec-498e-b5a7-0f0833de85a7",
     "showTitle": false,
     "tableResultSettingsMap": {},
     "title": ""
    }
   },
   "outputs": [],
   "source": [
    "%sql\n",
    "select * from capstone_project.silver.customers_SCD2 limit(10)"
   ]
  },
  {
   "cell_type": "code",
   "execution_count": 0,
   "metadata": {
    "application/vnd.databricks.v1+cell": {
     "cellMetadata": {
      "byteLimit": 2048000,
      "implicitDf": true,
      "rowLimit": 10000
     },
     "inputWidgets": {},
     "nuid": "7a010cf2-cf9f-4157-8128-383f5ea75e51",
     "showTitle": false,
     "tableResultSettingsMap": {},
     "title": ""
    }
   },
   "outputs": [],
   "source": [
    "%sql\n",
    "select * from capstone_project.silver.masked_email_customers"
   ]
  },
  {
   "cell_type": "code",
   "execution_count": 0,
   "metadata": {
    "application/vnd.databricks.v1+cell": {
     "cellMetadata": {
      "byteLimit": 2048000,
      "implicitDf": true,
      "rowLimit": 10000
     },
     "inputWidgets": {},
     "nuid": "f2d9a14b-61a1-4f05-80da-d1533b677b26",
     "showTitle": false,
     "tableResultSettingsMap": {},
     "title": ""
    }
   },
   "outputs": [],
   "source": [
    "%sql\n",
    "select * from capstone_project.bronze.accounts limit(10)"
   ]
  },
  {
   "cell_type": "code",
   "execution_count": 0,
   "metadata": {
    "application/vnd.databricks.v1+cell": {
     "cellMetadata": {
      "byteLimit": 2048000,
      "implicitDf": true,
      "rowLimit": 10000
     },
     "inputWidgets": {},
     "nuid": "36e76451-5288-4d8f-bf10-ebdcbec0efb1",
     "showTitle": false,
     "tableResultSettingsMap": {},
     "title": ""
    }
   },
   "outputs": [],
   "source": [
    "%sql\n",
    "describe capstone_project.bronze.loans"
   ]
  },
  {
   "cell_type": "code",
   "execution_count": 0,
   "metadata": {
    "application/vnd.databricks.v1+cell": {
     "cellMetadata": {
      "byteLimit": 2048000,
      "implicitDf": true,
      "rowLimit": 10000
     },
     "inputWidgets": {},
     "nuid": "e4ef23d0-5866-48ac-b1bd-121c02c657ba",
     "showTitle": false,
     "tableResultSettingsMap": {},
     "title": ""
    }
   },
   "outputs": [],
   "source": [
    "%sql\n",
    "describe capstone_project.bronze.accounts "
   ]
  },
  {
   "cell_type": "code",
   "execution_count": 0,
   "metadata": {
    "application/vnd.databricks.v1+cell": {
     "cellMetadata": {
      "byteLimit": 2048000,
      "implicitDf": true,
      "rowLimit": 10000
     },
     "inputWidgets": {},
     "nuid": "31d85211-8b88-4034-ba96-e02b81ca9708",
     "showTitle": false,
     "tableResultSettingsMap": {},
     "title": ""
    }
   },
   "outputs": [],
   "source": [
    "%sql\n",
    "select * from capstone_project.bronze.loans limit(10)"
   ]
  },
  {
   "cell_type": "code",
   "execution_count": 0,
   "metadata": {
    "application/vnd.databricks.v1+cell": {
     "cellMetadata": {
      "byteLimit": 2048000,
      "implicitDf": true,
      "rowLimit": 10000
     },
     "inputWidgets": {},
     "nuid": "ace8a0e6-131a-41c2-a7a2-ca2850731c81",
     "showTitle": false,
     "tableResultSettingsMap": {},
     "title": ""
    }
   },
   "outputs": [],
   "source": [
    "%sql\n",
    "select * from capstone_project.bronze.transactions limit(10)"
   ]
  },
  {
   "cell_type": "code",
   "execution_count": 0,
   "metadata": {
    "application/vnd.databricks.v1+cell": {
     "cellMetadata": {
      "byteLimit": 2048000,
      "implicitDf": true,
      "rowLimit": 10000
     },
     "inputWidgets": {},
     "nuid": "d6509ee8-7fc1-45dc-8e6e-7b223c1dee05",
     "showTitle": false,
     "tableResultSettingsMap": {},
     "title": ""
    }
   },
   "outputs": [],
   "source": [
    "%sql\n",
    "describe capstone_project.bronze.transactions"
   ]
  },
  {
   "cell_type": "code",
   "execution_count": 0,
   "metadata": {
    "application/vnd.databricks.v1+cell": {
     "cellMetadata": {
      "byteLimit": 2048000,
      "implicitDf": true,
      "rowLimit": 10000
     },
     "inputWidgets": {},
     "nuid": "e13680e7-97aa-4453-a0e6-7e9f0c30eeb7",
     "showTitle": false,
     "tableResultSettingsMap": {},
     "title": ""
    }
   },
   "outputs": [],
   "source": [
    "%sql\n",
    "select * from capstone_project.bronze.branches limit(10)\n",
    "    \n"
   ]
  },
  {
   "cell_type": "code",
   "execution_count": 0,
   "metadata": {
    "application/vnd.databricks.v1+cell": {
     "cellMetadata": {},
     "inputWidgets": {},
     "nuid": "1f9aa791-70e8-4a6b-86e5-412691cd0205",
     "showTitle": false,
     "tableResultSettingsMap": {},
     "title": ""
    }
   },
   "outputs": [],
   "source": [
    "Masking on same “email” column\n",
    "\n",
    "CREATE OR REPLACE STREAMING TABLE silver.masked_customers_email \n",
    "AS \n",
    "SELECT  \n",
    " customer_id, \n",
    " first_name, \n",
    " last_name, \n",
    " concat('xxxx', '@', split(email, '@')[1]) AS email, \n",
    " phone, \n",
    " date_of_birth, \n",
    " gender, \n",
    " annual_income, \n",
    " pan_number, \n",
    " aadhar_number, \n",
    " city, \n",
    " state, \n",
    " pincode, \n",
    " customer_since, \n",
    " kyc_status, \n",
    " credit_score, \n",
    " risk_category, \n",
    " is_active \n",
    "FROM  \n",
    " STREAM(silver.customers_cleaned_pl); \n"
   ]
  }
 ],
 "metadata": {
  "application/vnd.databricks.v1+notebook": {
   "computePreferences": null,
   "dashboards": [],
   "environmentMetadata": {
    "base_environment": "",
    "environment_version": "3"
   },
   "inputWidgetPreferences": null,
   "language": "python",
   "notebookMetadata": {
    "mostRecentlyExecutedCommandWithImplicitDF": {
     "commandId": 7365920186357192,
     "dataframes": [
      "_sqldf"
     ]
    },
    "pythonIndentUnit": 4
   },
   "notebookName": "(Clone) Untitled Notebook 2025-09-24 22:28:07",
   "widgets": {}
  },
  "language_info": {
   "name": "python"
  }
 },
 "nbformat": 4,
 "nbformat_minor": 0
}
